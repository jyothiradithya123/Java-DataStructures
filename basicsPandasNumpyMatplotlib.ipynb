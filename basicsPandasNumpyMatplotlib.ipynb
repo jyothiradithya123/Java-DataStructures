{
  "nbformat": 4,
  "nbformat_minor": 0,
  "metadata": {
    "colab": {
      "provenance": [],
      "authorship_tag": "ABX9TyPX367F66zAI+kkN4YrEoby",
      "include_colab_link": true
    },
    "kernelspec": {
      "name": "python3",
      "display_name": "Python 3"
    },
    "language_info": {
      "name": "python"
    }
  },
  "cells": [
    {
      "cell_type": "markdown",
      "metadata": {
        "id": "view-in-github",
        "colab_type": "text"
      },
      "source": [
        "<a href=\"https://colab.research.google.com/github/jyothiradithya123/Java-DataStructures/blob/main/basicsPandasNumpyMatplotlib.ipynb\" target=\"_parent\"><img src=\"https://colab.research.google.com/assets/colab-badge.svg\" alt=\"Open In Colab\"/></a>"
      ]
    },
    {
      "cell_type": "markdown",
      "source": [
        "Sample code to find sum of 2 numbers\n"
      ],
      "metadata": {
        "id": "znmiLJEZLdM6"
      }
    },
    {
      "cell_type": "markdown",
      "source": [],
      "metadata": {
        "id": "sY9NXygCLYxf"
      }
    },
    {
      "cell_type": "code",
      "execution_count": 4,
      "metadata": {
        "colab": {
          "base_uri": "https://localhost:8080/"
        },
        "id": "P7DLGpr9KuIs",
        "outputId": "928ea029-ef15-4e7c-9bd1-06fc8c6ec836"
      },
      "outputs": [
        {
          "output_type": "stream",
          "name": "stdout",
          "text": [
            "enter a number : 10\n",
            "enter a number : 20\n",
            "The sum is :  30\n"
          ]
        }
      ],
      "source": [
        "a=int(input(\"enter a number : \"))\n",
        "b=int(input(\"enter a number : \"))\n",
        "sum = a+b\n",
        "print(\"The sum is : \",sum)"
      ]
    },
    {
      "cell_type": "code",
      "source": [
        "import pandas as pd\n",
        "mylist = [1,2,3,4,5,6,7,8]\n",
        "res = pd.Series(mylist)\n",
        "print(\"series =\",res)"
      ],
      "metadata": {
        "colab": {
          "base_uri": "https://localhost:8080/"
        },
        "id": "m0CZZjlFL4UH",
        "outputId": "c7a65b94-a82f-4601-d21b-e8e279977bd6"
      },
      "execution_count": 7,
      "outputs": [
        {
          "output_type": "stream",
          "name": "stdout",
          "text": [
            "series = 0    1\n",
            "1    2\n",
            "2    3\n",
            "3    4\n",
            "4    5\n",
            "5    6\n",
            "6    7\n",
            "7    8\n",
            "dtype: int64\n"
          ]
        }
      ]
    },
    {
      "cell_type": "code",
      "source": [
        "import numpy as np\n",
        "arr = np.array((1,2,3,4,5,6,7,8))\n",
        "print(\"Array = \",arr)\n",
        "print(type(arr))"
      ],
      "metadata": {
        "colab": {
          "base_uri": "https://localhost:8080/"
        },
        "id": "U6LZHYtaM91X",
        "outputId": "bf521d1f-df85-4d99-fba2-280c5a0f6444"
      },
      "execution_count": 8,
      "outputs": [
        {
          "output_type": "stream",
          "name": "stdout",
          "text": [
            "Array =  [1 2 3 4 5 6 7 8]\n",
            "<class 'numpy.ndarray'>\n"
          ]
        }
      ]
    },
    {
      "cell_type": "code",
      "source": [
        "import matplotlib.pyplot as plt\n",
        "import numpy as np\n",
        "\n",
        "xpts = np.array([0,4])\n",
        "ypts = np.array([0,10])\n",
        "\n",
        "plt.plot(xpts,ypts)\n",
        "plt.show( )"
      ],
      "metadata": {
        "colab": {
          "base_uri": "https://localhost:8080/",
          "height": 430
        },
        "id": "rJ8ow5S7NiSZ",
        "outputId": "80b24e0a-641a-4ec5-ce28-2788fe25f4b4"
      },
      "execution_count": 9,
      "outputs": [
        {
          "output_type": "display_data",
          "data": {
            "text/plain": [
              "<Figure size 640x480 with 1 Axes>"
            ],
            "image/png": "[encoded data removed]"
          },
          "metadata": {}
        }
      ]
    }
  ]
}